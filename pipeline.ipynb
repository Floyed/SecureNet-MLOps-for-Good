{
 "cells": [
  {
   "cell_type": "code",
   "execution_count": 1,
   "metadata": {},
   "outputs": [],
   "source": [
    "from os import path\n",
    "import mlrun"
   ]
  },
  {
   "cell_type": "code",
   "execution_count": 2,
   "metadata": {},
   "outputs": [
    {
     "name": "stdout",
     "output_type": "stream",
     "text": [
      "Project path: conf\n",
      "Project name: securenet-floyed\n"
     ]
    }
   ],
   "source": [
    "# Load the project with configuration\n",
    "\n",
    "project_name_base = 'securenet'\n",
    "project_path = 'conf'\n",
    "securenet_proj = mlrun.projects.load_project(project_path,  clone=True)\n",
    "\n",
    "project = securenet_proj\n",
    "print(f'Project path: {project_path}\\nProject name: {project.name}')"
   ]
  },
  {
   "cell_type": "code",
   "execution_count": 3,
   "metadata": {},
   "outputs": [
    {
     "name": "stdout",
     "output_type": "stream",
     "text": [
      "['test-classifier', 'v2-model-tester', 'describe', 'sklearn-classifier', 'xgb-trainer', 'xgb-test', 'data-clean', 'v2-model-server', 'serving', 'train-data']\n"
     ]
    }
   ],
   "source": [
    "names = [func.get('metadata').get('name')\n",
    "         for func in mlrun.get_run_db().list_functions(project={project.name}, tag='latest')\n",
    "         if func.get('kind') != '']\n",
    "print(names)"
   ]
  },
  {
   "cell_type": "markdown",
   "metadata": {},
   "source": [
    "## Importing functions"
   ]
  },
  {
   "cell_type": "code",
   "execution_count": 4,
   "metadata": {},
   "outputs": [
    {
     "data": {
      "text/plain": [
       "<mlrun.runtimes.kubejob.KubejobRuntime at 0x7ff87a190c90>"
      ]
     },
     "execution_count": 4,
     "metadata": {},
     "output_type": "execute_result"
    }
   ],
   "source": [
    "project.set_function(f'db://{project.name}/data-clean')\n",
    "project.set_function(f'db://{project.name}/describe')\n",
    "#project.set_function(f'db://{project.name}/train-data')\n",
    "project.set_function('hub://v2_model_tester', 'live_tester')\n",
    "project.set_function(f'db://{project.name}/serving')\n",
    "project.set_function('hub://test_classifier', 'test')"
   ]
  },
  {
   "cell_type": "code",
   "execution_count": 5,
   "metadata": {},
   "outputs": [
    {
     "data": {
      "text/plain": [
       "[{'name': 'train-data',\n",
       "  'spec': {'kind': 'job',\n",
       "   'metadata': {'name': 'train-data',\n",
       "    'tag': 'latest',\n",
       "    'hash': '0c2ffcee3373c9b07757888ed399b8804ec5e91b',\n",
       "    'project': 'securenet-floyed',\n",
       "    'categories': [],\n",
       "    'updated': '2021-07-06T22:41:24.172655+00:00'},\n",
       "   'spec': {'command': '',\n",
       "    'args': [],\n",
       "    'image': 'mlrun/mlrun',\n",
       "    'env': [{'name': 'V3IO_API', 'value': ''},\n",
       "     {'name': 'V3IO_USERNAME', 'value': ''},\n",
       "     {'name': 'V3IO_ACCESS_KEY', 'value': ''}],\n",
       "    'default_handler': '',\n",
       "    'entry_points': {'train_data': {'name': 'train_data',\n",
       "      'doc': '',\n",
       "      'parameters': [{'name': 'context', 'default': ''},\n",
       "       {'name': 'dataset', 'type': 'DataItem', 'default': ''},\n",
       "       {'name': 'label_column', 'type': 'str', 'default': 'label'}],\n",
       "      'outputs': [{'default': ''}],\n",
       "      'lineno': 14}},\n",
       "    'description': '',\n",
       "    'build': {'functionSourceCode': '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',\n",
       "     'commands': [],\n",
       "     'code_origin': 'https://github.com/Floyed/SecureNet-MLOps-for-Good.git#db4983844a375cd9888d52bf33da724c0daddbb1:train_data.ipynb'},\n",
       "    'affinity': None},\n",
       "   'verbose': False}},\n",
       " {'url': 'db://securenet-floyed/data-clean', 'name': 'data-clean'},\n",
       " {'url': 'db://securenet-floyed/describe', 'name': 'describe'},\n",
       " {'url': 'hub://v2_model_tester', 'name': 'live_tester'},\n",
       " {'url': 'db://securenet-floyed/serving', 'name': 'serving'},\n",
       " {'url': 'hub://test_classifier', 'name': 'test'}]"
      ]
     },
     "execution_count": 5,
     "metadata": {},
     "output_type": "execute_result"
    }
   ],
   "source": [
    "project.functions"
   ]
  },
  {
   "cell_type": "markdown",
   "metadata": {},
   "source": [
    "## Kubeflow pipeline"
   ]
  },
  {
   "cell_type": "code",
   "execution_count": 6,
   "metadata": {},
   "outputs": [
    {
     "name": "stdout",
     "output_type": "stream",
     "text": [
      "Overwriting conf/workflow.py\n"
     ]
    }
   ],
   "source": [
    "%%writefile {path.join(project_path, 'workflow.py')}\n",
    "\n",
    "from kfp import dsl\n",
    "import mlrun\n",
    "from mlrun.platforms import auto_mount\n",
    "\n",
    "funcs = {}\n",
    "data_source_url = 'store:///raw_data' \n",
    "labels = 'label'\n",
    "GPUS = False\n",
    "\n",
    "cleaned_dataset = 'cleaned_data'\n",
    "model = 'logisticRegression_model'\n",
    "\n",
    "\n",
    "# Configure function resources and local settings\n",
    "def init_functions(functions: dict, project=None, secrets=None):\n",
    "    for f in functions.values():\n",
    "        f.apply(auto_mount())\n",
    "\n",
    "# Create a Kubeflow Pipelines pipeline\n",
    "@dsl.pipeline(\n",
    "      name=\"SecureNet\",\n",
    "    description=\"The workflow implements data processing, training and testing the model and serving the model\"\n",
    ")\n",
    "def kfpipeline():\n",
    "\n",
    "    # Ingest the data set\n",
    "    ingest = funcs['data-clean'].as_step(\n",
    "    name='data_clean',\n",
    "    handler='data_clean',\n",
    "    inputs={\"src\": data_source_url,'cleaned_key':cleaned_dataset},\n",
    "    outputs=[cleaned_dataset])\n",
    "    \n",
    "    #analyze data\n",
    "    \n",
    "    describe = funcs['describe'].as_step(\n",
    "    name=\"summary\",\n",
    "    params={\"label_column\": labels},\n",
    "    inputs={\"table\": ingest.outputs[cleaned_dataset]})\n",
    "    \n",
    "    # Train a model   \n",
    "    train = funcs[\"train-data\"].as_step(\n",
    "        name=\"train_data\",\n",
    "        params={\"label_column\": labels},\n",
    "        inputs={\"dataset\": ingest.outputs[cleaned_dataset]},\n",
    "        outputs=['model', 'test_set'])\n",
    "    \n",
    "\n",
    "    test = funcs[\"test\"].as_step(\n",
    "        name=\"test\",\n",
    "        params={\"label_column\": labels},\n",
    "        inputs={\"models_path\": train.outputs['model'],\n",
    "                \"test_set\": train.outputs['test_set']})\n",
    "    \n",
    "    # Deploy the model as a serverless function\n",
    "    deploy = funcs[\"serving\"].deploy_step(\n",
    "        models={f\"{model}_v1\": train.outputs['model']})"
   ]
  },
  {
   "cell_type": "markdown",
   "metadata": {},
   "source": [
    "## Register workflow"
   ]
  },
  {
   "cell_type": "code",
   "execution_count": 7,
   "metadata": {},
   "outputs": [],
   "source": [
    "# Register the workflow file as \"main\"\n",
    "project.set_workflow('infer', 'workflow.py')"
   ]
  },
  {
   "cell_type": "code",
   "execution_count": 8,
   "metadata": {},
   "outputs": [],
   "source": [
    "project.save()"
   ]
  },
  {
   "cell_type": "code",
   "execution_count": 9,
   "metadata": {},
   "outputs": [
    {
     "data": {
      "text/plain": [
       "'v3io:///projects/{{run.project}}/artifacts'"
      ]
     },
     "execution_count": 9,
     "metadata": {},
     "output_type": "execute_result"
    }
   ],
   "source": [
    "import os \n",
    "from os import environ, path\n",
    "from mlrun import mlconf\n",
    "mlconf.artifact_path"
   ]
  },
  {
   "cell_type": "code",
   "execution_count": 11,
   "metadata": {},
   "outputs": [],
   "source": [
    "pipeline_path = mlconf.artifact_path\n",
    "\n",
    "run_id = project.run(\n",
    "    'infer',\n",
    "    arguments={}, \n",
    "    artifact_path=os.path.join(pipeline_path, \"pipeline\", '{{workflow.uid}}'),\n",
    "    dirty=True,\n",
    "    watch=True)"
   ]
  }
 ],
 "metadata": {
  "kernelspec": {
   "display_name": "Python 3",
   "language": "python",
   "name": "python3"
  },
  "language_info": {
   "codemirror_mode": {
    "name": "ipython",
    "version": 3
   },
   "file_extension": ".py",
   "mimetype": "text/x-python",
   "name": "python",
   "nbconvert_exporter": "python",
   "pygments_lexer": "ipython3",
   "version": "3.7.6"
  }
 },
 "nbformat": 4,
 "nbformat_minor": 4
}

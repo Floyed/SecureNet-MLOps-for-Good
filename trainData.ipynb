{
 "cells": [
  {
   "cell_type": "code",
   "execution_count": 1,
   "metadata": {},
   "outputs": [
    {
     "name": "stdout",
     "output_type": "stream",
     "text": [
      "Project name: securenet-floyed\n",
      "Artifact path: v3io:///projects/{{run.project}}/artifacts\n"
     ]
    }
   ],
   "source": [
    "import mlrun\n",
    "from os import path\n",
    "\n",
    "# Set the base project name\n",
    "project_name_base = 'securenet'\n",
    "# Initialize the MLRun environment and save the project name and artifacts path\n",
    "project_name, artifact_path = mlrun.set_environment(project=project_name_base,\n",
    "                                                    user_project=True)\n",
    "\n",
    "print(f'Project name: {project_name}')\n",
    "print(f'Artifact path: {artifact_path}')"
   ]
  },
  {
   "cell_type": "code",
   "execution_count": 2,
   "metadata": {},
   "outputs": [],
   "source": [
    "# nuclio: start-code"
   ]
  },
  {
   "cell_type": "code",
   "execution_count": 3,
   "metadata": {},
   "outputs": [],
   "source": [
    "from sklearn import preprocessing\n",
    "from os import path\n",
    "import numpy as np \n",
    "import pandas as pd\n",
    "import datetime as dt\n",
    "from sklearn.model_selection import train_test_split\n",
    "from mlrun.execution import MLClientCtx\n",
    "from pickle import dumps\n",
    "from sklearn.linear_model import LogisticRegression\n",
    "import mlrun"
   ]
  },
  {
   "cell_type": "code",
   "execution_count": 27,
   "metadata": {},
   "outputs": [],
   "source": [
    "def train_data(context,\n",
    "               dataset:mlrun.DataItem,\n",
    "               label_column: str = \"label\"):\n",
    "    \n",
    "    train_df = dataset.as_df()\n",
    "    y = train_df[label_column]\n",
    "   \n",
    "    train_df = train_df.drop(columns=[label_column])\n",
    "    train_df = train_df.drop(train_df.columns[[0]], axis=1)\n",
    "    \n",
    "    X_train,X_test,y_train,y_test = train_test_split(train_df,y,random_state=123,test_size=0.10)\n",
    "    model = LogisticRegression(max_iter=10000)\n",
    "    model.fit(X_train, y_train)\n",
    "                   \n",
    "    context.log_dataset('train_set', \n",
    "                        df=pd.concat([X_train, y_train.to_frame()], axis=1),\n",
    "                        format='csv', index=False, \n",
    "                        #artifact_path=context.artifact_subpath('data')\n",
    "                       )\n",
    "                       \n",
    "\n",
    "    context.log_dataset('test_set', \n",
    "                        df=pd.concat([X_test, y_test.to_frame()], axis=1),\n",
    "                        format='csv', index=False, \n",
    "                        labels={\"data-type\": \"held-out\"},\n",
    "                        #artifact_path=context.artifact_subpath('data')\n",
    "                       )\n",
    "    context.log_model('model',\n",
    "                     body=dumps(model),\n",
    "                     #artifact_path=context.artifact_subpath(\"model\"),\n",
    "                     model_file=\"model.pkl\",\n",
    "                    metrics=context.results,\n",
    "                    labels={\"class\": \"sklearn.linear_model.LogisticRegression\"})\n",
    "    \n",
    "    context.logger.info('End training')\n"
   ]
  },
  {
   "cell_type": "code",
   "execution_count": 5,
   "metadata": {},
   "outputs": [],
   "source": [
    "# nuclio: end-code"
   ]
  },
  {
   "cell_type": "markdown",
   "metadata": {},
   "source": [
    "## Converting to ML run function"
   ]
  },
  {
   "cell_type": "code",
   "execution_count": 28,
   "metadata": {},
   "outputs": [],
   "source": [
    "train_data_func = mlrun.code_to_function(name='train_data', kind='job', image='mlrun/mlrun')\n"
   ]
  },
  {
   "cell_type": "markdown",
   "metadata": {},
   "source": [
    "## Run function locally"
   ]
  },
  {
   "cell_type": "code",
   "execution_count": 25,
   "metadata": {},
   "outputs": [],
   "source": [
    "dataset = 'store://datasets/securenet-floyed/data_clean_cleaned_data:latest'"
   ]
  },
  {
   "cell_type": "code",
   "execution_count": 29,
   "metadata": {},
   "outputs": [
    {
     "name": "stdout",
     "output_type": "stream",
     "text": [
      "> 2021-07-06 22:33:26,087 [info] starting run train_data uid=3cb7db852324487c99fd7f217eb6f7b6 DB=http://mlrun-api:8080\n",
      "> 2021-07-06 22:33:29,700 [info] End training\n"
     ]
    },
    {
     "data": {
      "text/html": [
       "<style>\n",
       ".dictlist {\n",
       "  background-color: #4EC64B;\n",
       "  text-align: center;\n",
       "  margin: 4px;\n",
       "  border-radius: 3px; padding: 0px 3px 1px 3px; display: inline-block;}\n",
       ".artifact {\n",
       "  cursor: pointer;\n",
       "  background-color: #4EC64B;\n",
       "  text-align: left;\n",
       "  margin: 4px; border-radius: 3px; padding: 0px 3px 1px 3px; display: inline-block;\n",
       "}\n",
       "div.block.hidden {\n",
       "  display: none;\n",
       "}\n",
       ".clickable {\n",
       "  cursor: pointer;\n",
       "}\n",
       ".ellipsis {\n",
       "  display: inline-block;\n",
       "  max-width: 60px;\n",
       "  white-space: nowrap;\n",
       "  overflow: hidden;\n",
       "  text-overflow: ellipsis;\n",
       "}\n",
       ".master-wrapper {\n",
       "  display: flex;\n",
       "  flex-flow: row nowrap;\n",
       "  justify-content: flex-start;\n",
       "  align-items: stretch;\n",
       "}\n",
       ".master-tbl {\n",
       "  flex: 3\n",
       "}\n",
       ".master-wrapper > div {\n",
       "  margin: 4px;\n",
       "  padding: 10px;\n",
       "}\n",
       "iframe.fileview {\n",
       "  border: 0 none;\n",
       "  height: 100%;\n",
       "  width: 100%;\n",
       "  white-space: pre-wrap;\n",
       "}\n",
       ".pane-header-title {\n",
       "  width: 80%;\n",
       "  font-weight: 500;\n",
       "}\n",
       ".pane-header {\n",
       "  line-height: 1;\n",
       "  background-color: #4EC64B;\n",
       "  padding: 3px;\n",
       "}\n",
       ".pane-header .close {\n",
       "  font-size: 20px;\n",
       "  font-weight: 700;\n",
       "  float: right;\n",
       "  margin-top: -5px;\n",
       "}\n",
       ".master-wrapper .right-pane {\n",
       "  border: 1px inset silver;\n",
       "  width: 40%;\n",
       "  min-height: 300px;\n",
       "  flex: 3\n",
       "  min-width: 500px;\n",
       "}\n",
       ".master-wrapper * {\n",
       "  box-sizing: border-box;\n",
       "}\n",
       "</style><script>\n",
       "function copyToClipboard(fld) {\n",
       "    if (document.queryCommandSupported && document.queryCommandSupported('copy')) {\n",
       "        var textarea = document.createElement('textarea');\n",
       "        textarea.textContent = fld.innerHTML;\n",
       "        textarea.style.position = 'fixed';\n",
       "        document.body.appendChild(textarea);\n",
       "        textarea.select();\n",
       "\n",
       "        try {\n",
       "            return document.execCommand('copy'); // Security exception may be thrown by some browsers.\n",
       "        } catch (ex) {\n",
       "\n",
       "        } finally {\n",
       "            document.body.removeChild(textarea);\n",
       "        }\n",
       "    }\n",
       "}\n",
       "function expandPanel(el) {\n",
       "  const panelName = \"#\" + el.getAttribute('paneName');\n",
       "  console.log(el.title);\n",
       "\n",
       "  document.querySelector(panelName + \"-title\").innerHTML = el.title\n",
       "  iframe = document.querySelector(panelName + \"-body\");\n",
       "\n",
       "  const tblcss = `<style> body { font-family: Arial, Helvetica, sans-serif;}\n",
       "    #csv { margin-bottom: 15px; }\n",
       "    #csv table { border-collapse: collapse;}\n",
       "    #csv table td { padding: 4px 8px; border: 1px solid silver;} </style>`;\n",
       "\n",
       "  function csvToHtmlTable(str) {\n",
       "    return '<div id=\"csv\"><table><tr><td>' +  str.replace(/[\\n\\r]+$/g, '').replace(/[\\n\\r]+/g, '</td></tr><tr><td>')\n",
       "      .replace(/,/g, '</td><td>') + '</td></tr></table></div>';\n",
       "  }\n",
       "\n",
       "  function reqListener () {\n",
       "    if (el.title.endsWith(\".csv\")) {\n",
       "      iframe.setAttribute(\"srcdoc\", tblcss + csvToHtmlTable(this.responseText));\n",
       "    } else {\n",
       "      iframe.setAttribute(\"srcdoc\", this.responseText);\n",
       "    }\n",
       "    console.log(this.responseText);\n",
       "  }\n",
       "\n",
       "  const oReq = new XMLHttpRequest();\n",
       "  oReq.addEventListener(\"load\", reqListener);\n",
       "  oReq.open(\"GET\", el.title);\n",
       "  oReq.send();\n",
       "\n",
       "\n",
       "  //iframe.src = el.title;\n",
       "  const resultPane = document.querySelector(panelName + \"-pane\");\n",
       "  if (resultPane.classList.contains(\"hidden\")) {\n",
       "    resultPane.classList.remove(\"hidden\");\n",
       "  }\n",
       "}\n",
       "function closePanel(el) {\n",
       "  const panelName = \"#\" + el.getAttribute('paneName')\n",
       "  const resultPane = document.querySelector(panelName + \"-pane\");\n",
       "  if (!resultPane.classList.contains(\"hidden\")) {\n",
       "    resultPane.classList.add(\"hidden\");\n",
       "  }\n",
       "}\n",
       "\n",
       "</script>\n",
       "<div class=\"master-wrapper\">\n",
       "  <div class=\"block master-tbl\"><div>\n",
       "<style scoped>\n",
       "    .dataframe tbody tr th:only-of-type {\n",
       "        vertical-align: middle;\n",
       "    }\n",
       "\n",
       "    .dataframe tbody tr th {\n",
       "        vertical-align: top;\n",
       "    }\n",
       "\n",
       "    .dataframe thead th {\n",
       "        text-align: right;\n",
       "    }\n",
       "</style>\n",
       "<table border=\"1\" class=\"dataframe\">\n",
       "  <thead>\n",
       "    <tr style=\"text-align: right;\">\n",
       "      <th>project</th>\n",
       "      <th>uid</th>\n",
       "      <th>iter</th>\n",
       "      <th>start</th>\n",
       "      <th>state</th>\n",
       "      <th>name</th>\n",
       "      <th>labels</th>\n",
       "      <th>inputs</th>\n",
       "      <th>parameters</th>\n",
       "      <th>results</th>\n",
       "      <th>artifacts</th>\n",
       "    </tr>\n",
       "  </thead>\n",
       "  <tbody>\n",
       "    <tr>\n",
       "      <td>securenet-floyed</td>\n",
       "      <td><div title=\"3cb7db852324487c99fd7f217eb6f7b6\"><a href=\"https://dashboard.default-tenant.app.mlops9.iguazio-c0.com/mlprojects/securenet-floyed/jobs/monitor/3cb7db852324487c99fd7f217eb6f7b6/overview\" target=\"_blank\" >...7eb6f7b6</a></div></td>\n",
       "      <td>0</td>\n",
       "      <td>Jul 06 22:33:26</td>\n",
       "      <td>completed</td>\n",
       "      <td>train_data</td>\n",
       "      <td><div class=\"dictlist\">v3io_user=floyed</div><div class=\"dictlist\">kind=</div><div class=\"dictlist\">owner=floyed</div><div class=\"dictlist\">host=jupyter-868bd46cc9-rb2mn</div></td>\n",
       "      <td><div title=\"store://datasets/securenet-floyed/data_clean_cleaned_data:latest\">dataset</div></td>\n",
       "      <td></td>\n",
       "      <td></td>\n",
       "      <td><div class=\"artifact\" onclick=\"expandPanel(this)\" paneName=\"result3e46e999\" title=\"files/v3io/projects/securenet-floyed/artifacts/3cb7db852324487c99fd7f217eb6f7b6/train_set.csv\">train_set</div><div class=\"artifact\" onclick=\"expandPanel(this)\" paneName=\"result3e46e999\" title=\"files/v3io/projects/securenet-floyed/artifacts/3cb7db852324487c99fd7f217eb6f7b6/test_set.csv\">test_set</div><div title=\"v3io:///projects/securenet-floyed/artifacts/3cb7db852324487c99fd7f217eb6f7b6/\">model</div></td>\n",
       "    </tr>\n",
       "  </tbody>\n",
       "</table>\n",
       "</div></div>\n",
       "  <div id=\"result3e46e999-pane\" class=\"right-pane block hidden\">\n",
       "    <div class=\"pane-header\">\n",
       "      <span id=\"result3e46e999-title\" class=\"pane-header-title\">Title</span>\n",
       "      <span onclick=\"closePanel(this)\" paneName=\"result3e46e999\" class=\"close clickable\">&times;</span>\n",
       "    </div>\n",
       "    <iframe class=\"fileview\" id=\"result3e46e999-body\"></iframe>\n",
       "  </div>\n",
       "</div>\n"
      ],
      "text/plain": [
       "<IPython.core.display.HTML object>"
      ]
     },
     "metadata": {},
     "output_type": "display_data"
    },
    {
     "name": "stdout",
     "output_type": "stream",
     "text": [
      "to track results use .show() or .logs() or in CLI: \n",
      "!mlrun get run 3cb7db852324487c99fd7f217eb6f7b6 --project securenet-floyed , !mlrun logs 3cb7db852324487c99fd7f217eb6f7b6 --project securenet-floyed\n",
      "> 2021-07-06 22:33:29,776 [info] run executed, status=completed\n"
     ]
    }
   ],
   "source": [
    "out = artifact_path \n",
    "\n",
    "train_data_run = train_data_func.run(name='train_data',\n",
    "                                   handler=train_data,\n",
    "                                   inputs={'dataset': dataset},\n",
    "                                    \n",
    "                                   local=True,\n",
    "                                    artifact_path=path.join(out, '{{run.uid}}'))"
   ]
  },
  {
   "cell_type": "code",
   "execution_count": 30,
   "metadata": {},
   "outputs": [
    {
     "data": {
      "text/plain": [
       "{'train_set': 'store://artifacts/securenet-floyed/train_data_train_set:3cb7db852324487c99fd7f217eb6f7b6',\n",
       " 'test_set': 'store://artifacts/securenet-floyed/train_data_test_set:3cb7db852324487c99fd7f217eb6f7b6',\n",
       " 'model': 'store://artifacts/securenet-floyed/train_data_model:3cb7db852324487c99fd7f217eb6f7b6'}"
      ]
     },
     "execution_count": 30,
     "metadata": {},
     "output_type": "execute_result"
    }
   ],
   "source": [
    "train_data_run.outputs"
   ]
  },
  {
   "cell_type": "markdown",
   "metadata": {},
   "source": [
    "## Mounting"
   ]
  },
  {
   "cell_type": "code",
   "execution_count": 35,
   "metadata": {},
   "outputs": [],
   "source": [
    "from mlrun.platforms import auto_mount\n",
    "train_data_func = train_data_func.apply(auto_mount())\n"
   ]
  },
  {
   "cell_type": "markdown",
   "metadata": {},
   "source": [
    "## Running on cluster"
   ]
  },
  {
   "cell_type": "code",
   "execution_count": 33,
   "metadata": {},
   "outputs": [],
   "source": [
    "import sys\n",
    "sys.path.append('/v3io/users/floyed/data')\n"
   ]
  },
  {
   "cell_type": "code",
   "execution_count": 36,
   "metadata": {},
   "outputs": [
    {
     "name": "stdout",
     "output_type": "stream",
     "text": [
      "> 2021-07-06 22:41:24,057 [info] starting run train_data uid=f1e2843bf63049f78530bdb5ff33a1e7 DB=http://mlrun-api:8080\n",
      "> 2021-07-06 22:41:24,286 [info] Job is running in the background, pod: train-data-msk82\n",
      "> 2021-07-06 22:41:32,315 [info] End training\n",
      "> 2021-07-06 22:41:32,366 [info] run executed, status=completed\n",
      "final state: completed\n"
     ]
    },
    {
     "data": {
      "text/html": [
       "<style>\n",
       ".dictlist {\n",
       "  background-color: #4EC64B;\n",
       "  text-align: center;\n",
       "  margin: 4px;\n",
       "  border-radius: 3px; padding: 0px 3px 1px 3px; display: inline-block;}\n",
       ".artifact {\n",
       "  cursor: pointer;\n",
       "  background-color: #4EC64B;\n",
       "  text-align: left;\n",
       "  margin: 4px; border-radius: 3px; padding: 0px 3px 1px 3px; display: inline-block;\n",
       "}\n",
       "div.block.hidden {\n",
       "  display: none;\n",
       "}\n",
       ".clickable {\n",
       "  cursor: pointer;\n",
       "}\n",
       ".ellipsis {\n",
       "  display: inline-block;\n",
       "  max-width: 60px;\n",
       "  white-space: nowrap;\n",
       "  overflow: hidden;\n",
       "  text-overflow: ellipsis;\n",
       "}\n",
       ".master-wrapper {\n",
       "  display: flex;\n",
       "  flex-flow: row nowrap;\n",
       "  justify-content: flex-start;\n",
       "  align-items: stretch;\n",
       "}\n",
       ".master-tbl {\n",
       "  flex: 3\n",
       "}\n",
       ".master-wrapper > div {\n",
       "  margin: 4px;\n",
       "  padding: 10px;\n",
       "}\n",
       "iframe.fileview {\n",
       "  border: 0 none;\n",
       "  height: 100%;\n",
       "  width: 100%;\n",
       "  white-space: pre-wrap;\n",
       "}\n",
       ".pane-header-title {\n",
       "  width: 80%;\n",
       "  font-weight: 500;\n",
       "}\n",
       ".pane-header {\n",
       "  line-height: 1;\n",
       "  background-color: #4EC64B;\n",
       "  padding: 3px;\n",
       "}\n",
       ".pane-header .close {\n",
       "  font-size: 20px;\n",
       "  font-weight: 700;\n",
       "  float: right;\n",
       "  margin-top: -5px;\n",
       "}\n",
       ".master-wrapper .right-pane {\n",
       "  border: 1px inset silver;\n",
       "  width: 40%;\n",
       "  min-height: 300px;\n",
       "  flex: 3\n",
       "  min-width: 500px;\n",
       "}\n",
       ".master-wrapper * {\n",
       "  box-sizing: border-box;\n",
       "}\n",
       "</style><script>\n",
       "function copyToClipboard(fld) {\n",
       "    if (document.queryCommandSupported && document.queryCommandSupported('copy')) {\n",
       "        var textarea = document.createElement('textarea');\n",
       "        textarea.textContent = fld.innerHTML;\n",
       "        textarea.style.position = 'fixed';\n",
       "        document.body.appendChild(textarea);\n",
       "        textarea.select();\n",
       "\n",
       "        try {\n",
       "            return document.execCommand('copy'); // Security exception may be thrown by some browsers.\n",
       "        } catch (ex) {\n",
       "\n",
       "        } finally {\n",
       "            document.body.removeChild(textarea);\n",
       "        }\n",
       "    }\n",
       "}\n",
       "function expandPanel(el) {\n",
       "  const panelName = \"#\" + el.getAttribute('paneName');\n",
       "  console.log(el.title);\n",
       "\n",
       "  document.querySelector(panelName + \"-title\").innerHTML = el.title\n",
       "  iframe = document.querySelector(panelName + \"-body\");\n",
       "\n",
       "  const tblcss = `<style> body { font-family: Arial, Helvetica, sans-serif;}\n",
       "    #csv { margin-bottom: 15px; }\n",
       "    #csv table { border-collapse: collapse;}\n",
       "    #csv table td { padding: 4px 8px; border: 1px solid silver;} </style>`;\n",
       "\n",
       "  function csvToHtmlTable(str) {\n",
       "    return '<div id=\"csv\"><table><tr><td>' +  str.replace(/[\\n\\r]+$/g, '').replace(/[\\n\\r]+/g, '</td></tr><tr><td>')\n",
       "      .replace(/,/g, '</td><td>') + '</td></tr></table></div>';\n",
       "  }\n",
       "\n",
       "  function reqListener () {\n",
       "    if (el.title.endsWith(\".csv\")) {\n",
       "      iframe.setAttribute(\"srcdoc\", tblcss + csvToHtmlTable(this.responseText));\n",
       "    } else {\n",
       "      iframe.setAttribute(\"srcdoc\", this.responseText);\n",
       "    }\n",
       "    console.log(this.responseText);\n",
       "  }\n",
       "\n",
       "  const oReq = new XMLHttpRequest();\n",
       "  oReq.addEventListener(\"load\", reqListener);\n",
       "  oReq.open(\"GET\", el.title);\n",
       "  oReq.send();\n",
       "\n",
       "\n",
       "  //iframe.src = el.title;\n",
       "  const resultPane = document.querySelector(panelName + \"-pane\");\n",
       "  if (resultPane.classList.contains(\"hidden\")) {\n",
       "    resultPane.classList.remove(\"hidden\");\n",
       "  }\n",
       "}\n",
       "function closePanel(el) {\n",
       "  const panelName = \"#\" + el.getAttribute('paneName')\n",
       "  const resultPane = document.querySelector(panelName + \"-pane\");\n",
       "  if (!resultPane.classList.contains(\"hidden\")) {\n",
       "    resultPane.classList.add(\"hidden\");\n",
       "  }\n",
       "}\n",
       "\n",
       "</script>\n",
       "<div class=\"master-wrapper\">\n",
       "  <div class=\"block master-tbl\"><div>\n",
       "<style scoped>\n",
       "    .dataframe tbody tr th:only-of-type {\n",
       "        vertical-align: middle;\n",
       "    }\n",
       "\n",
       "    .dataframe tbody tr th {\n",
       "        vertical-align: top;\n",
       "    }\n",
       "\n",
       "    .dataframe thead th {\n",
       "        text-align: right;\n",
       "    }\n",
       "</style>\n",
       "<table border=\"1\" class=\"dataframe\">\n",
       "  <thead>\n",
       "    <tr style=\"text-align: right;\">\n",
       "      <th>project</th>\n",
       "      <th>uid</th>\n",
       "      <th>iter</th>\n",
       "      <th>start</th>\n",
       "      <th>state</th>\n",
       "      <th>name</th>\n",
       "      <th>labels</th>\n",
       "      <th>inputs</th>\n",
       "      <th>parameters</th>\n",
       "      <th>results</th>\n",
       "      <th>artifacts</th>\n",
       "    </tr>\n",
       "  </thead>\n",
       "  <tbody>\n",
       "    <tr>\n",
       "      <td>securenet-floyed</td>\n",
       "      <td><div title=\"f1e2843bf63049f78530bdb5ff33a1e7\"><a href=\"https://dashboard.default-tenant.app.mlops9.iguazio-c0.com/mlprojects/securenet-floyed/jobs/monitor/f1e2843bf63049f78530bdb5ff33a1e7/overview\" target=\"_blank\" >...ff33a1e7</a></div></td>\n",
       "      <td>0</td>\n",
       "      <td>Jul 06 22:41:30</td>\n",
       "      <td>completed</td>\n",
       "      <td>train_data</td>\n",
       "      <td><div class=\"dictlist\">v3io_user=floyed</div><div class=\"dictlist\">kind=job</div><div class=\"dictlist\">owner=floyed</div><div class=\"dictlist\">host=train-data-msk82</div></td>\n",
       "      <td><div title=\"store://datasets/securenet-floyed/data_clean_cleaned_data:latest\">dataset</div></td>\n",
       "      <td></td>\n",
       "      <td></td>\n",
       "      <td><div class=\"artifact\" onclick=\"expandPanel(this)\" paneName=\"resultf23a6b42\" title=\"files/v3io/projects/securenet-floyed/artifacts/train_set.csv\">train_set</div><div class=\"artifact\" onclick=\"expandPanel(this)\" paneName=\"resultf23a6b42\" title=\"files/v3io/projects/securenet-floyed/artifacts/test_set.csv\">test_set</div><div title=\"v3io:///projects/securenet-floyed/artifacts/\">model</div></td>\n",
       "    </tr>\n",
       "  </tbody>\n",
       "</table>\n",
       "</div></div>\n",
       "  <div id=\"resultf23a6b42-pane\" class=\"right-pane block hidden\">\n",
       "    <div class=\"pane-header\">\n",
       "      <span id=\"resultf23a6b42-title\" class=\"pane-header-title\">Title</span>\n",
       "      <span onclick=\"closePanel(this)\" paneName=\"resultf23a6b42\" class=\"close clickable\">&times;</span>\n",
       "    </div>\n",
       "    <iframe class=\"fileview\" id=\"resultf23a6b42-body\"></iframe>\n",
       "  </div>\n",
       "</div>\n"
      ],
      "text/plain": [
       "<IPython.core.display.HTML object>"
      ]
     },
     "metadata": {},
     "output_type": "display_data"
    },
    {
     "name": "stdout",
     "output_type": "stream",
     "text": [
      "to track results use .show() or .logs() or in CLI: \n",
      "!mlrun get run f1e2843bf63049f78530bdb5ff33a1e7 --project securenet-floyed , !mlrun logs f1e2843bf63049f78530bdb5ff33a1e7 --project securenet-floyed\n",
      "> 2021-07-06 22:41:33,526 [info] run executed, status=completed\n"
     ]
    }
   ],
   "source": [
    "train_data_run = train_data_func.run(name='train_data',\n",
    "                                   handler=train_data,\n",
    "                                   inputs={'dataset': dataset},\n",
    "                                   \n",
    "                                   local=False)"
   ]
  },
  {
   "cell_type": "code",
   "execution_count": 38,
   "metadata": {},
   "outputs": [
    {
     "data": {
      "text/plain": [
       "{'train_set': 'store://artifacts/securenet-floyed/train_data_train_set:f1e2843bf63049f78530bdb5ff33a1e7',\n",
       " 'test_set': 'store://artifacts/securenet-floyed/train_data_test_set:f1e2843bf63049f78530bdb5ff33a1e7',\n",
       " 'model': 'store://artifacts/securenet-floyed/train_data_model:f1e2843bf63049f78530bdb5ff33a1e7'}"
      ]
     },
     "execution_count": 38,
     "metadata": {},
     "output_type": "execute_result"
    }
   ],
   "source": [
    "train_data_run.outputs"
   ]
  },
  {
   "cell_type": "code",
   "execution_count": 37,
   "metadata": {},
   "outputs": [
    {
     "data": {
      "text/plain": [
       "'store://artifacts/securenet-floyed/train_data_model:f1e2843bf63049f78530bdb5ff33a1e7'"
      ]
     },
     "execution_count": 37,
     "metadata": {},
     "output_type": "execute_result"
    }
   ],
   "source": [
    "train_data_run.outputs['model']"
   ]
  },
  {
   "cell_type": "code",
   "execution_count": 12,
   "metadata": {},
   "outputs": [
    {
     "data": {
      "text/plain": [
       "{'train_set': 'store://artifacts/securenet-floyed/train-data-train_data_train_set:e294d20014d2417e8de725fac1d597ab',\n",
       " 'test_set': 'store://artifacts/securenet-floyed/train-data-train_data_test_set:e294d20014d2417e8de725fac1d597ab',\n",
       " 'model': 'store://artifacts/securenet-floyed/train-data-train_data_model:e294d20014d2417e8de725fac1d597ab'}"
      ]
     },
     "execution_count": 12,
     "metadata": {},
     "output_type": "execute_result"
    }
   ],
   "source": [
    "train_data_run.outputs"
   ]
  },
  {
   "cell_type": "code",
   "execution_count": 39,
   "metadata": {},
   "outputs": [],
   "source": [
    "test = mlrun.run.get_dataitem(train_data_run.outputs['test_set']).as_df()"
   ]
  },
  {
   "cell_type": "code",
   "execution_count": 40,
   "metadata": {},
   "outputs": [
    {
     "data": {
      "text/html": [
       "<div>\n",
       "<style scoped>\n",
       "    .dataframe tbody tr th:only-of-type {\n",
       "        vertical-align: middle;\n",
       "    }\n",
       "\n",
       "    .dataframe tbody tr th {\n",
       "        vertical-align: top;\n",
       "    }\n",
       "\n",
       "    .dataframe thead th {\n",
       "        text-align: right;\n",
       "    }\n",
       "</style>\n",
       "<table border=\"1\" class=\"dataframe\">\n",
       "  <thead>\n",
       "    <tr style=\"text-align: right;\">\n",
       "      <th></th>\n",
       "      <th>url_len</th>\n",
       "      <th>ip_add</th>\n",
       "      <th>geo_loc</th>\n",
       "      <th>tld</th>\n",
       "      <th>who_is</th>\n",
       "      <th>https</th>\n",
       "      <th>special_chars_count</th>\n",
       "      <th>parameter_count</th>\n",
       "      <th>digit_count</th>\n",
       "      <th>label</th>\n",
       "    </tr>\n",
       "  </thead>\n",
       "  <tbody>\n",
       "    <tr>\n",
       "      <th>0</th>\n",
       "      <td>34</td>\n",
       "      <td>10280</td>\n",
       "      <td>159</td>\n",
       "      <td>64</td>\n",
       "      <td>0</td>\n",
       "      <td>1</td>\n",
       "      <td>5</td>\n",
       "      <td>0</td>\n",
       "      <td>0</td>\n",
       "      <td>1</td>\n",
       "    </tr>\n",
       "    <tr>\n",
       "      <th>1</th>\n",
       "      <td>30</td>\n",
       "      <td>21696</td>\n",
       "      <td>87</td>\n",
       "      <td>64</td>\n",
       "      <td>1</td>\n",
       "      <td>0</td>\n",
       "      <td>8</td>\n",
       "      <td>0</td>\n",
       "      <td>0</td>\n",
       "      <td>0</td>\n",
       "    </tr>\n",
       "    <tr>\n",
       "      <th>2</th>\n",
       "      <td>42</td>\n",
       "      <td>21150</td>\n",
       "      <td>24</td>\n",
       "      <td>230</td>\n",
       "      <td>0</td>\n",
       "      <td>1</td>\n",
       "      <td>9</td>\n",
       "      <td>0</td>\n",
       "      <td>1</td>\n",
       "      <td>1</td>\n",
       "    </tr>\n",
       "    <tr>\n",
       "      <th>3</th>\n",
       "      <td>82</td>\n",
       "      <td>48274</td>\n",
       "      <td>139</td>\n",
       "      <td>262</td>\n",
       "      <td>0</td>\n",
       "      <td>1</td>\n",
       "      <td>20</td>\n",
       "      <td>3</td>\n",
       "      <td>1</td>\n",
       "      <td>1</td>\n",
       "    </tr>\n",
       "    <tr>\n",
       "      <th>4</th>\n",
       "      <td>33</td>\n",
       "      <td>7673</td>\n",
       "      <td>175</td>\n",
       "      <td>172</td>\n",
       "      <td>0</td>\n",
       "      <td>0</td>\n",
       "      <td>7</td>\n",
       "      <td>0</td>\n",
       "      <td>0</td>\n",
       "      <td>1</td>\n",
       "    </tr>\n",
       "  </tbody>\n",
       "</table>\n",
       "</div>"
      ],
      "text/plain": [
       "   url_len  ip_add  geo_loc  tld  who_is  https  special_chars_count  \\\n",
       "0       34   10280      159   64       0      1                    5   \n",
       "1       30   21696       87   64       1      0                    8   \n",
       "2       42   21150       24  230       0      1                    9   \n",
       "3       82   48274      139  262       0      1                   20   \n",
       "4       33    7673      175  172       0      0                    7   \n",
       "\n",
       "   parameter_count  digit_count  label  \n",
       "0                0            0      1  \n",
       "1                0            0      0  \n",
       "2                0            1      1  \n",
       "3                3            1      1  \n",
       "4                0            0      1  "
      ]
     },
     "execution_count": 40,
     "metadata": {},
     "output_type": "execute_result"
    }
   ],
   "source": [
    "test.head()"
   ]
  },
  {
   "cell_type": "markdown",
   "metadata": {},
   "source": [
    "## Testing model"
   ]
  },
  {
   "cell_type": "code",
   "execution_count": 41,
   "metadata": {},
   "outputs": [],
   "source": [
    "test_model = mlrun.import_function('hub://test_classifier').apply(auto_mount())"
   ]
  },
  {
   "cell_type": "code",
   "execution_count": 42,
   "metadata": {},
   "outputs": [
    {
     "name": "stdout",
     "output_type": "stream",
     "text": [
      "> 2021-07-06 22:42:31,439 [info] starting run test uid=4d1b391f7df44c548270034c086e1ecb DB=http://mlrun-api:8080\n",
      "> 2021-07-06 22:42:31,677 [info] Job is running in the background, pod: test-69rrq\n",
      "> 2021-07-06 22:42:39,478 [info] run executed, status=completed\n",
      "final state: completed\n"
     ]
    },
    {
     "data": {
      "text/html": [
       "<style>\n",
       ".dictlist {\n",
       "  background-color: #4EC64B;\n",
       "  text-align: center;\n",
       "  margin: 4px;\n",
       "  border-radius: 3px; padding: 0px 3px 1px 3px; display: inline-block;}\n",
       ".artifact {\n",
       "  cursor: pointer;\n",
       "  background-color: #4EC64B;\n",
       "  text-align: left;\n",
       "  margin: 4px; border-radius: 3px; padding: 0px 3px 1px 3px; display: inline-block;\n",
       "}\n",
       "div.block.hidden {\n",
       "  display: none;\n",
       "}\n",
       ".clickable {\n",
       "  cursor: pointer;\n",
       "}\n",
       ".ellipsis {\n",
       "  display: inline-block;\n",
       "  max-width: 60px;\n",
       "  white-space: nowrap;\n",
       "  overflow: hidden;\n",
       "  text-overflow: ellipsis;\n",
       "}\n",
       ".master-wrapper {\n",
       "  display: flex;\n",
       "  flex-flow: row nowrap;\n",
       "  justify-content: flex-start;\n",
       "  align-items: stretch;\n",
       "}\n",
       ".master-tbl {\n",
       "  flex: 3\n",
       "}\n",
       ".master-wrapper > div {\n",
       "  margin: 4px;\n",
       "  padding: 10px;\n",
       "}\n",
       "iframe.fileview {\n",
       "  border: 0 none;\n",
       "  height: 100%;\n",
       "  width: 100%;\n",
       "  white-space: pre-wrap;\n",
       "}\n",
       ".pane-header-title {\n",
       "  width: 80%;\n",
       "  font-weight: 500;\n",
       "}\n",
       ".pane-header {\n",
       "  line-height: 1;\n",
       "  background-color: #4EC64B;\n",
       "  padding: 3px;\n",
       "}\n",
       ".pane-header .close {\n",
       "  font-size: 20px;\n",
       "  font-weight: 700;\n",
       "  float: right;\n",
       "  margin-top: -5px;\n",
       "}\n",
       ".master-wrapper .right-pane {\n",
       "  border: 1px inset silver;\n",
       "  width: 40%;\n",
       "  min-height: 300px;\n",
       "  flex: 3\n",
       "  min-width: 500px;\n",
       "}\n",
       ".master-wrapper * {\n",
       "  box-sizing: border-box;\n",
       "}\n",
       "</style><script>\n",
       "function copyToClipboard(fld) {\n",
       "    if (document.queryCommandSupported && document.queryCommandSupported('copy')) {\n",
       "        var textarea = document.createElement('textarea');\n",
       "        textarea.textContent = fld.innerHTML;\n",
       "        textarea.style.position = 'fixed';\n",
       "        document.body.appendChild(textarea);\n",
       "        textarea.select();\n",
       "\n",
       "        try {\n",
       "            return document.execCommand('copy'); // Security exception may be thrown by some browsers.\n",
       "        } catch (ex) {\n",
       "\n",
       "        } finally {\n",
       "            document.body.removeChild(textarea);\n",
       "        }\n",
       "    }\n",
       "}\n",
       "function expandPanel(el) {\n",
       "  const panelName = \"#\" + el.getAttribute('paneName');\n",
       "  console.log(el.title);\n",
       "\n",
       "  document.querySelector(panelName + \"-title\").innerHTML = el.title\n",
       "  iframe = document.querySelector(panelName + \"-body\");\n",
       "\n",
       "  const tblcss = `<style> body { font-family: Arial, Helvetica, sans-serif;}\n",
       "    #csv { margin-bottom: 15px; }\n",
       "    #csv table { border-collapse: collapse;}\n",
       "    #csv table td { padding: 4px 8px; border: 1px solid silver;} </style>`;\n",
       "\n",
       "  function csvToHtmlTable(str) {\n",
       "    return '<div id=\"csv\"><table><tr><td>' +  str.replace(/[\\n\\r]+$/g, '').replace(/[\\n\\r]+/g, '</td></tr><tr><td>')\n",
       "      .replace(/,/g, '</td><td>') + '</td></tr></table></div>';\n",
       "  }\n",
       "\n",
       "  function reqListener () {\n",
       "    if (el.title.endsWith(\".csv\")) {\n",
       "      iframe.setAttribute(\"srcdoc\", tblcss + csvToHtmlTable(this.responseText));\n",
       "    } else {\n",
       "      iframe.setAttribute(\"srcdoc\", this.responseText);\n",
       "    }\n",
       "    console.log(this.responseText);\n",
       "  }\n",
       "\n",
       "  const oReq = new XMLHttpRequest();\n",
       "  oReq.addEventListener(\"load\", reqListener);\n",
       "  oReq.open(\"GET\", el.title);\n",
       "  oReq.send();\n",
       "\n",
       "\n",
       "  //iframe.src = el.title;\n",
       "  const resultPane = document.querySelector(panelName + \"-pane\");\n",
       "  if (resultPane.classList.contains(\"hidden\")) {\n",
       "    resultPane.classList.remove(\"hidden\");\n",
       "  }\n",
       "}\n",
       "function closePanel(el) {\n",
       "  const panelName = \"#\" + el.getAttribute('paneName')\n",
       "  const resultPane = document.querySelector(panelName + \"-pane\");\n",
       "  if (!resultPane.classList.contains(\"hidden\")) {\n",
       "    resultPane.classList.add(\"hidden\");\n",
       "  }\n",
       "}\n",
       "\n",
       "</script>\n",
       "<div class=\"master-wrapper\">\n",
       "  <div class=\"block master-tbl\"><div>\n",
       "<style scoped>\n",
       "    .dataframe tbody tr th:only-of-type {\n",
       "        vertical-align: middle;\n",
       "    }\n",
       "\n",
       "    .dataframe tbody tr th {\n",
       "        vertical-align: top;\n",
       "    }\n",
       "\n",
       "    .dataframe thead th {\n",
       "        text-align: right;\n",
       "    }\n",
       "</style>\n",
       "<table border=\"1\" class=\"dataframe\">\n",
       "  <thead>\n",
       "    <tr style=\"text-align: right;\">\n",
       "      <th>project</th>\n",
       "      <th>uid</th>\n",
       "      <th>iter</th>\n",
       "      <th>start</th>\n",
       "      <th>state</th>\n",
       "      <th>name</th>\n",
       "      <th>labels</th>\n",
       "      <th>inputs</th>\n",
       "      <th>parameters</th>\n",
       "      <th>results</th>\n",
       "      <th>artifacts</th>\n",
       "    </tr>\n",
       "  </thead>\n",
       "  <tbody>\n",
       "    <tr>\n",
       "      <td>securenet-floyed</td>\n",
       "      <td><div title=\"4d1b391f7df44c548270034c086e1ecb\"><a href=\"https://dashboard.default-tenant.app.mlops9.iguazio-c0.com/mlprojects/securenet-floyed/jobs/monitor/4d1b391f7df44c548270034c086e1ecb/overview\" target=\"_blank\" >...086e1ecb</a></div></td>\n",
       "      <td>0</td>\n",
       "      <td>Jul 06 22:42:38</td>\n",
       "      <td>completed</td>\n",
       "      <td>test</td>\n",
       "      <td><div class=\"dictlist\">v3io_user=floyed</div><div class=\"dictlist\">kind=job</div><div class=\"dictlist\">owner=floyed</div><div class=\"dictlist\">host=test-69rrq</div></td>\n",
       "      <td><div title=\"store://artifacts/securenet-floyed/train_data_model:f1e2843bf63049f78530bdb5ff33a1e7\">models_path</div><div title=\"store://artifacts/securenet-floyed/train_data_test_set:f1e2843bf63049f78530bdb5ff33a1e7\">test_set</div></td>\n",
       "      <td><div class=\"dictlist\">label_column=label</div></td>\n",
       "      <td><div class=\"dictlist\">accuracy=0.8418414702060516</div><div class=\"dictlist\">test-error=0.1581585297939484</div><div class=\"dictlist\">rocauc=0.9050366432078779</div><div class=\"dictlist\">brier_score=0.11872366106914786</div><div class=\"dictlist\">f1-score=0.8545081967213114</div><div class=\"dictlist\">precision_score=0.86875</div><div class=\"dictlist\">recall_score=0.8407258064516129</div></td>\n",
       "      <td><div class=\"artifact\" onclick=\"expandPanel(this)\" paneName=\"result9c8c8f1e\" title=\"files/v3io/projects/securenet-floyed/artifacts/plots/probability-calibration.html\">probability-calibration</div><div class=\"artifact\" onclick=\"expandPanel(this)\" paneName=\"result9c8c8f1e\" title=\"files/v3io/projects/securenet-floyed/artifacts/plots/confusion-matrix.html\">confusion-matrix</div><div class=\"artifact\" onclick=\"expandPanel(this)\" paneName=\"result9c8c8f1e\" title=\"files/v3io/projects/securenet-floyed/artifacts/plots/precision-recall-binary.html\">precision-recall-binary</div><div class=\"artifact\" onclick=\"expandPanel(this)\" paneName=\"result9c8c8f1e\" title=\"files/v3io/projects/securenet-floyed/artifacts/plots/roc-binary.html\">roc-binary</div><div title=\"v3io:///projects/securenet-floyed/artifacts/test_set_preds.parquet\">test_set_preds</div></td>\n",
       "    </tr>\n",
       "  </tbody>\n",
       "</table>\n",
       "</div></div>\n",
       "  <div id=\"result9c8c8f1e-pane\" class=\"right-pane block hidden\">\n",
       "    <div class=\"pane-header\">\n",
       "      <span id=\"result9c8c8f1e-title\" class=\"pane-header-title\">Title</span>\n",
       "      <span onclick=\"closePanel(this)\" paneName=\"result9c8c8f1e\" class=\"close clickable\">&times;</span>\n",
       "    </div>\n",
       "    <iframe class=\"fileview\" id=\"result9c8c8f1e-body\"></iframe>\n",
       "  </div>\n",
       "</div>\n"
      ],
      "text/plain": [
       "<IPython.core.display.HTML object>"
      ]
     },
     "metadata": {},
     "output_type": "display_data"
    },
    {
     "name": "stdout",
     "output_type": "stream",
     "text": [
      "to track results use .show() or .logs() or in CLI: \n",
      "!mlrun get run 4d1b391f7df44c548270034c086e1ecb --project securenet-floyed , !mlrun logs 4d1b391f7df44c548270034c086e1ecb --project securenet-floyed\n",
      "> 2021-07-06 22:42:40,969 [info] run executed, status=completed\n",
      "Test Accuracy: 0.8418414702060516\n"
     ]
    }
   ],
   "source": [
    "test_run = test_model.run(name=\"test\",\n",
    "                    params={\"label_column\": \"label\",\n",
    "                            #\"plots_dest\": path.join(\"plots\", \"test\")\n",
    "                           },\n",
    "                    inputs={\"models_path\": train_data_run.outputs['model'],\n",
    "                            \"test_set\": train_data_run.outputs['test_set']\n",
    "                            })\n",
    "print(f'Test Accuracy: {test_run.outputs[\"accuracy\"]}')\n",
    "\n"
   ]
  },
  {
   "cell_type": "markdown",
   "metadata": {},
   "source": [
    "## Setting the train function"
   ]
  },
  {
   "cell_type": "code",
   "execution_count": 43,
   "metadata": {},
   "outputs": [],
   "source": [
    "project_path = path.abspath('conf')\n",
    "securenet_proj =mlrun.new_project(project_name_base,\n",
    "                            context=project_path,\n",
    "                            init_git=True,\n",
    "                            user_project=True)"
   ]
  },
  {
   "cell_type": "code",
   "execution_count": 44,
   "metadata": {},
   "outputs": [
    {
     "data": {
      "text/plain": [
       "<mlrun.runtimes.kubejob.KubejobRuntime at 0x7f02216a0150>"
      ]
     },
     "execution_count": 44,
     "metadata": {},
     "output_type": "execute_result"
    }
   ],
   "source": [
    "\n",
    "fn = f'db://securenet-floyed/train-data'\n",
    "f = mlrun.import_function(fn)\n",
    "f\n"
   ]
  },
  {
   "cell_type": "code",
   "execution_count": 45,
   "metadata": {},
   "outputs": [
    {
     "data": {
      "text/plain": [
       "<mlrun.runtimes.kubejob.KubejobRuntime at 0x7f02216a0150>"
      ]
     },
     "execution_count": 45,
     "metadata": {},
     "output_type": "execute_result"
    }
   ],
   "source": [
    "securenet_proj.set_function(f)"
   ]
  },
  {
   "cell_type": "code",
   "execution_count": 46,
   "metadata": {},
   "outputs": [],
   "source": [
    "securenet_proj.save()"
   ]
  },
  {
   "cell_type": "code",
   "execution_count": 47,
   "metadata": {},
   "outputs": [
    {
     "data": {
      "text/plain": [
       "[{'name': 'train-data',\n",
       "  'spec': {'kind': 'job',\n",
       "   'metadata': {'name': 'train-data',\n",
       "    'tag': 'latest',\n",
       "    'hash': '0c2ffcee3373c9b07757888ed399b8804ec5e91b',\n",
       "    'project': 'securenet-floyed',\n",
       "    'categories': [],\n",
       "    'updated': '2021-07-06T22:41:24.172655+00:00'},\n",
       "   'spec': {'command': '',\n",
       "    'args': [],\n",
       "    'image': 'mlrun/mlrun',\n",
       "    'env': [{'name': 'V3IO_API', 'value': ''},\n",
       "     {'name': 'V3IO_USERNAME', 'value': ''},\n",
       "     {'name': 'V3IO_ACCESS_KEY', 'value': ''}],\n",
       "    'default_handler': '',\n",
       "    'entry_points': {'train_data': {'name': 'train_data',\n",
       "      'doc': '',\n",
       "      'parameters': [{'name': 'context', 'default': ''},\n",
       "       {'name': 'dataset', 'type': 'DataItem', 'default': ''},\n",
       "       {'name': 'label_column', 'type': 'str', 'default': 'label'}],\n",
       "      'outputs': [{'default': ''}],\n",
       "      'lineno': 14}},\n",
       "    'description': '',\n",
       "    'build': {'functionSourceCode': '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',\n",
       "     'commands': [],\n",
       "     'code_origin': 'https://github.com/Floyed/SecureNet-MLOps-for-Good.git#db4983844a375cd9888d52bf33da724c0daddbb1:train_data.ipynb'},\n",
       "    'affinity': None},\n",
       "   'verbose': False}}]"
      ]
     },
     "execution_count": 47,
     "metadata": {},
     "output_type": "execute_result"
    }
   ],
   "source": [
    "securenet_proj.functions"
   ]
  }
 ],
 "metadata": {
  "kernelspec": {
   "display_name": "Python 3",
   "language": "python",
   "name": "python3"
  },
  "language_info": {
   "codemirror_mode": {
    "name": "ipython",
    "version": 3
   },
   "file_extension": ".py",
   "mimetype": "text/x-python",
   "name": "python",
   "nbconvert_exporter": "python",
   "pygments_lexer": "ipython3",
   "version": "3.7.6"
  }
 },
 "nbformat": 4,
 "nbformat_minor": 4
}
